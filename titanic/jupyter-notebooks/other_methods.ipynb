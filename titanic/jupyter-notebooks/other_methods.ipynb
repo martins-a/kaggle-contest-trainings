{
 "cells": [
  {
   "cell_type": "markdown",
   "id": "2a808d41",
   "metadata": {},
   "source": [
    "*Imports*"
   ]
  },
  {
   "cell_type": "code",
   "execution_count": 25,
   "id": "230729eb",
   "metadata": {},
   "outputs": [],
   "source": [
    "import pandas as pd\n",
    "\n",
    "from sklearn.tree import DecisionTreeClassifier\n",
    "\n",
    "from sklearn.model_selection import train_test_split\n",
    "\n",
    "from sklearn.preprocessing import OneHotEncoder\n",
    "\n",
    "from sklearn import metrics\n",
    "\n",
    "from sklearn.ensemble import RandomForestClassifier"
   ]
  },
  {
   "cell_type": "markdown",
   "id": "d47bdb56",
   "metadata": {},
   "source": [
    "Configurations"
   ]
  },
  {
   "cell_type": "code",
   "execution_count": 2,
   "id": "8d43c87d",
   "metadata": {},
   "outputs": [],
   "source": [
    "# pandas will display all data in a single column\n",
    "#pd.set_option('display.max.columns', None);\n",
    "# set the precision of floating point numbers\n",
    "#pd.set_option('display.precision', 2);"
   ]
  },
  {
   "cell_type": "markdown",
   "id": "bf1e22dc",
   "metadata": {},
   "source": [
    "Load the data"
   ]
  },
  {
   "cell_type": "code",
   "execution_count": 3,
   "id": "450891e5",
   "metadata": {},
   "outputs": [],
   "source": [
    "df = pd.read_csv('./train.csv');"
   ]
  },
  {
   "cell_type": "markdown",
   "id": "36236d58",
   "metadata": {},
   "source": [
    "_Common functions_"
   ]
  },
  {
   "cell_type": "code",
   "execution_count": 4,
   "id": "e4c822dc",
   "metadata": {},
   "outputs": [
    {
     "data": {
      "text/plain": [
       "'\\ndef oheCols(data, columns):\\n    \\n    for col in columns:\\n        encoder = LabelBinarizer();\\n        encoder.fit(data[col].astype(str));\\n        transformed = encoder.transform(data[col].astype(str));\\n        oheDf = pd.DataFrame(transformed);\\n        data = pd.concat([data, oheDf], axis=1).drop([col], axis=1);\\n\\n        \\n    return data;\\n'"
      ]
     },
     "execution_count": 4,
     "metadata": {},
     "output_type": "execute_result"
    }
   ],
   "source": [
    "# execute and log\n",
    "def eal(headerMsg, result):\n",
    "    print('-----------'+headerMsg+'---------');\n",
    "    print(result);\n",
    "    print(' ');\n",
    "  \n",
    "\"\"\"\n",
    "def oheCols(data, columns):\n",
    "    \n",
    "    for col in columns:\n",
    "        encoder = LabelBinarizer();\n",
    "        encoder.fit(data[col].astype(str));\n",
    "        transformed = encoder.transform(data[col].astype(str));\n",
    "        oheDf = pd.DataFrame(transformed);\n",
    "        data = pd.concat([data, oheDf], axis=1).drop([col], axis=1);\n",
    "\n",
    "        \n",
    "    return data;\n",
    "\"\"\""
   ]
  },
  {
   "cell_type": "markdown",
   "id": "2a5b8565",
   "metadata": {},
   "source": [
    "Inspecting data"
   ]
  },
  {
   "cell_type": "code",
   "execution_count": 5,
   "id": "7789ad01",
   "metadata": {},
   "outputs": [
    {
     "data": {
      "text/html": [
       "<div>\n",
       "<style scoped>\n",
       "    .dataframe tbody tr th:only-of-type {\n",
       "        vertical-align: middle;\n",
       "    }\n",
       "\n",
       "    .dataframe tbody tr th {\n",
       "        vertical-align: top;\n",
       "    }\n",
       "\n",
       "    .dataframe thead th {\n",
       "        text-align: right;\n",
       "    }\n",
       "</style>\n",
       "<table border=\"1\" class=\"dataframe\">\n",
       "  <thead>\n",
       "    <tr style=\"text-align: right;\">\n",
       "      <th></th>\n",
       "      <th>PassengerId</th>\n",
       "      <th>Survived</th>\n",
       "      <th>Pclass</th>\n",
       "      <th>Name</th>\n",
       "      <th>Sex</th>\n",
       "      <th>Age</th>\n",
       "      <th>SibSp</th>\n",
       "      <th>Parch</th>\n",
       "      <th>Ticket</th>\n",
       "      <th>Fare</th>\n",
       "      <th>Cabin</th>\n",
       "      <th>Embarked</th>\n",
       "    </tr>\n",
       "  </thead>\n",
       "  <tbody>\n",
       "    <tr>\n",
       "      <th>0</th>\n",
       "      <td>1</td>\n",
       "      <td>0</td>\n",
       "      <td>3</td>\n",
       "      <td>Braund, Mr. Owen Harris</td>\n",
       "      <td>male</td>\n",
       "      <td>22.0</td>\n",
       "      <td>1</td>\n",
       "      <td>0</td>\n",
       "      <td>A/5 21171</td>\n",
       "      <td>7.2500</td>\n",
       "      <td>NaN</td>\n",
       "      <td>S</td>\n",
       "    </tr>\n",
       "    <tr>\n",
       "      <th>1</th>\n",
       "      <td>2</td>\n",
       "      <td>1</td>\n",
       "      <td>1</td>\n",
       "      <td>Cumings, Mrs. John Bradley (Florence Briggs Th...</td>\n",
       "      <td>female</td>\n",
       "      <td>38.0</td>\n",
       "      <td>1</td>\n",
       "      <td>0</td>\n",
       "      <td>PC 17599</td>\n",
       "      <td>71.2833</td>\n",
       "      <td>C85</td>\n",
       "      <td>C</td>\n",
       "    </tr>\n",
       "    <tr>\n",
       "      <th>2</th>\n",
       "      <td>3</td>\n",
       "      <td>1</td>\n",
       "      <td>3</td>\n",
       "      <td>Heikkinen, Miss. Laina</td>\n",
       "      <td>female</td>\n",
       "      <td>26.0</td>\n",
       "      <td>0</td>\n",
       "      <td>0</td>\n",
       "      <td>STON/O2. 3101282</td>\n",
       "      <td>7.9250</td>\n",
       "      <td>NaN</td>\n",
       "      <td>S</td>\n",
       "    </tr>\n",
       "    <tr>\n",
       "      <th>3</th>\n",
       "      <td>4</td>\n",
       "      <td>1</td>\n",
       "      <td>1</td>\n",
       "      <td>Futrelle, Mrs. Jacques Heath (Lily May Peel)</td>\n",
       "      <td>female</td>\n",
       "      <td>35.0</td>\n",
       "      <td>1</td>\n",
       "      <td>0</td>\n",
       "      <td>113803</td>\n",
       "      <td>53.1000</td>\n",
       "      <td>C123</td>\n",
       "      <td>S</td>\n",
       "    </tr>\n",
       "    <tr>\n",
       "      <th>4</th>\n",
       "      <td>5</td>\n",
       "      <td>0</td>\n",
       "      <td>3</td>\n",
       "      <td>Allen, Mr. William Henry</td>\n",
       "      <td>male</td>\n",
       "      <td>35.0</td>\n",
       "      <td>0</td>\n",
       "      <td>0</td>\n",
       "      <td>373450</td>\n",
       "      <td>8.0500</td>\n",
       "      <td>NaN</td>\n",
       "      <td>S</td>\n",
       "    </tr>\n",
       "  </tbody>\n",
       "</table>\n",
       "</div>"
      ],
      "text/plain": [
       "   PassengerId  Survived  Pclass  \\\n",
       "0            1         0       3   \n",
       "1            2         1       1   \n",
       "2            3         1       3   \n",
       "3            4         1       1   \n",
       "4            5         0       3   \n",
       "\n",
       "                                                Name     Sex   Age  SibSp  \\\n",
       "0                            Braund, Mr. Owen Harris    male  22.0      1   \n",
       "1  Cumings, Mrs. John Bradley (Florence Briggs Th...  female  38.0      1   \n",
       "2                             Heikkinen, Miss. Laina  female  26.0      0   \n",
       "3       Futrelle, Mrs. Jacques Heath (Lily May Peel)  female  35.0      1   \n",
       "4                           Allen, Mr. William Henry    male  35.0      0   \n",
       "\n",
       "   Parch            Ticket     Fare Cabin Embarked  \n",
       "0      0         A/5 21171   7.2500   NaN        S  \n",
       "1      0          PC 17599  71.2833   C85        C  \n",
       "2      0  STON/O2. 3101282   7.9250   NaN        S  \n",
       "3      0            113803  53.1000  C123        S  \n",
       "4      0            373450   8.0500   NaN        S  "
      ]
     },
     "execution_count": 5,
     "metadata": {},
     "output_type": "execute_result"
    }
   ],
   "source": [
    "df.head()"
   ]
  },
  {
   "cell_type": "code",
   "execution_count": 6,
   "id": "fd5b641a",
   "metadata": {},
   "outputs": [
    {
     "name": "stdout",
     "output_type": "stream",
     "text": [
      "-----------number of samples---------\n",
      "891\n",
      " \n",
      "-----------shape---------\n",
      "(891, 12)\n",
      " \n"
     ]
    }
   ],
   "source": [
    "eal('number of samples', len(df));\n",
    "eal('shape', df.shape);"
   ]
  },
  {
   "cell_type": "code",
   "execution_count": 7,
   "id": "761ce62d",
   "metadata": {},
   "outputs": [
    {
     "name": "stdout",
     "output_type": "stream",
     "text": [
      "<class 'pandas.core.frame.DataFrame'>\n",
      "RangeIndex: 891 entries, 0 to 890\n",
      "Data columns (total 12 columns):\n",
      " #   Column       Non-Null Count  Dtype  \n",
      "---  ------       --------------  -----  \n",
      " 0   PassengerId  891 non-null    int64  \n",
      " 1   Survived     891 non-null    int64  \n",
      " 2   Pclass       891 non-null    int64  \n",
      " 3   Name         891 non-null    object \n",
      " 4   Sex          891 non-null    object \n",
      " 5   Age          714 non-null    float64\n",
      " 6   SibSp        891 non-null    int64  \n",
      " 7   Parch        891 non-null    int64  \n",
      " 8   Ticket       891 non-null    object \n",
      " 9   Fare         891 non-null    float64\n",
      " 10  Cabin        204 non-null    object \n",
      " 11  Embarked     889 non-null    object \n",
      "dtypes: float64(2), int64(5), object(5)\n",
      "memory usage: 83.7+ KB\n"
     ]
    }
   ],
   "source": [
    "# checking data types\n",
    "df.info()"
   ]
  },
  {
   "cell_type": "markdown",
   "id": "e8f7d6da",
   "metadata": {},
   "source": [
    "Preparing data"
   ]
  },
  {
   "cell_type": "code",
   "execution_count": 8,
   "id": "098cc940",
   "metadata": {},
   "outputs": [
    {
     "name": "stderr",
     "output_type": "stream",
     "text": [
      "C:\\Users\\Pichau\\AppData\\Local\\Temp/ipykernel_12560/812795663.py:3: FutureWarning: In a future version of pandas all arguments of DataFrame.drop except for the argument 'labels' will be keyword-only\n",
      "  X = df.drop(['Survived', 'Name', 'Cabin', 'Ticket', 'Embarked', 'PassengerId'], 1)\n",
      "C:\\Users\\Pichau\\AppData\\Local\\Temp/ipykernel_12560/812795663.py:4: FutureWarning: Dropping of nuisance columns in DataFrame reductions (with 'numeric_only=None') is deprecated; in a future version this will raise TypeError.  Select only valid columns before calling the reduction.\n",
      "  X = X.fillna(X.mean())\n"
     ]
    }
   ],
   "source": [
    "y = df['Survived']\n",
    "# removing some features (feature selection)\n",
    "X = df.drop(['Survived', 'Name', 'Cabin', 'Ticket', 'Embarked', 'PassengerId'], 1)\n",
    "X = X.fillna(X.mean())"
   ]
  },
  {
   "cell_type": "code",
   "execution_count": 9,
   "id": "94322cda",
   "metadata": {},
   "outputs": [
    {
     "data": {
      "text/html": [
       "<div>\n",
       "<style scoped>\n",
       "    .dataframe tbody tr th:only-of-type {\n",
       "        vertical-align: middle;\n",
       "    }\n",
       "\n",
       "    .dataframe tbody tr th {\n",
       "        vertical-align: top;\n",
       "    }\n",
       "\n",
       "    .dataframe thead th {\n",
       "        text-align: right;\n",
       "    }\n",
       "</style>\n",
       "<table border=\"1\" class=\"dataframe\">\n",
       "  <thead>\n",
       "    <tr style=\"text-align: right;\">\n",
       "      <th></th>\n",
       "      <th>Pclass</th>\n",
       "      <th>Sex</th>\n",
       "      <th>Age</th>\n",
       "      <th>SibSp</th>\n",
       "      <th>Parch</th>\n",
       "      <th>Fare</th>\n",
       "    </tr>\n",
       "  </thead>\n",
       "  <tbody>\n",
       "    <tr>\n",
       "      <th>0</th>\n",
       "      <td>3</td>\n",
       "      <td>male</td>\n",
       "      <td>22.0</td>\n",
       "      <td>1</td>\n",
       "      <td>0</td>\n",
       "      <td>7.2500</td>\n",
       "    </tr>\n",
       "    <tr>\n",
       "      <th>1</th>\n",
       "      <td>1</td>\n",
       "      <td>female</td>\n",
       "      <td>38.0</td>\n",
       "      <td>1</td>\n",
       "      <td>0</td>\n",
       "      <td>71.2833</td>\n",
       "    </tr>\n",
       "    <tr>\n",
       "      <th>2</th>\n",
       "      <td>3</td>\n",
       "      <td>female</td>\n",
       "      <td>26.0</td>\n",
       "      <td>0</td>\n",
       "      <td>0</td>\n",
       "      <td>7.9250</td>\n",
       "    </tr>\n",
       "    <tr>\n",
       "      <th>3</th>\n",
       "      <td>1</td>\n",
       "      <td>female</td>\n",
       "      <td>35.0</td>\n",
       "      <td>1</td>\n",
       "      <td>0</td>\n",
       "      <td>53.1000</td>\n",
       "    </tr>\n",
       "    <tr>\n",
       "      <th>4</th>\n",
       "      <td>3</td>\n",
       "      <td>male</td>\n",
       "      <td>35.0</td>\n",
       "      <td>0</td>\n",
       "      <td>0</td>\n",
       "      <td>8.0500</td>\n",
       "    </tr>\n",
       "  </tbody>\n",
       "</table>\n",
       "</div>"
      ],
      "text/plain": [
       "   Pclass     Sex   Age  SibSp  Parch     Fare\n",
       "0       3    male  22.0      1      0   7.2500\n",
       "1       1  female  38.0      1      0  71.2833\n",
       "2       3  female  26.0      0      0   7.9250\n",
       "3       1  female  35.0      1      0  53.1000\n",
       "4       3    male  35.0      0      0   8.0500"
      ]
     },
     "execution_count": 9,
     "metadata": {},
     "output_type": "execute_result"
    }
   ],
   "source": [
    "X.head()"
   ]
  },
  {
   "cell_type": "code",
   "execution_count": 10,
   "id": "9f1553cd",
   "metadata": {},
   "outputs": [
    {
     "name": "stderr",
     "output_type": "stream",
     "text": [
      "C:\\Users\\Pichau\\AppData\\Local\\Temp/ipykernel_12560/1321783184.py:9: FutureWarning: In a future version of pandas all arguments of DataFrame.drop except for the argument 'labels' will be keyword-only\n",
      "  [X.drop(colsToOneHotEncode, 1),\n"
     ]
    }
   ],
   "source": [
    "# One hot encoding \n",
    "\n",
    "colsToOneHotEncode = ['Sex'];\n",
    "\n",
    "myEncoder = OneHotEncoder(sparse=False, handle_unknown='ignore')\n",
    "myEncoder.fit(X[colsToOneHotEncode])\n",
    "\n",
    "oheX = pd.concat(\n",
    "    [X.drop(colsToOneHotEncode, 1), \n",
    "     pd.DataFrame(myEncoder.transform(X[colsToOneHotEncode]))], axis=1).reindex()\n",
    "\n",
    "\n"
   ]
  },
  {
   "cell_type": "code",
   "execution_count": 11,
   "id": "f759cf1c",
   "metadata": {},
   "outputs": [
    {
     "name": "stdout",
     "output_type": "stream",
     "text": [
      "   Pclass   Age  SibSp  Parch     Fare    0    1\n",
      "0       3  22.0      1      0   7.2500  0.0  1.0\n",
      "1       1  38.0      1      0  71.2833  1.0  0.0\n",
      "2       3  26.0      0      0   7.9250  1.0  0.0\n",
      "3       1  35.0      1      0  53.1000  1.0  0.0\n",
      "4       3  35.0      0      0   8.0500  0.0  1.0\n"
     ]
    }
   ],
   "source": [
    "print(oheX.head())"
   ]
  },
  {
   "cell_type": "markdown",
   "id": "6f98a252",
   "metadata": {},
   "source": [
    "Splitting train and validation"
   ]
  },
  {
   "cell_type": "code",
   "execution_count": 12,
   "id": "49435cb3",
   "metadata": {},
   "outputs": [],
   "source": [
    "X_train, X_test, y_train, y_test = train_test_split(oheX, y, test_size=0.3, random_state=1)"
   ]
  },
  {
   "cell_type": "code",
   "execution_count": 13,
   "id": "79ec0906",
   "metadata": {},
   "outputs": [
    {
     "name": "stdout",
     "output_type": "stream",
     "text": [
      "(623, 7)\n",
      "(268, 7)\n",
      "--\n",
      "(623,)\n",
      "(268,)\n"
     ]
    }
   ],
   "source": [
    "print(X_train.shape)\n",
    "print(X_test.shape)\n",
    "print('--')\n",
    "print(y_train.shape)\n",
    "print(y_test.shape)"
   ]
  },
  {
   "cell_type": "code",
   "execution_count": null,
   "id": "3f903388",
   "metadata": {},
   "outputs": [],
   "source": []
  },
  {
   "cell_type": "markdown",
   "id": "a99a465c",
   "metadata": {},
   "source": [
    "# Baseline - Decision Tree Classifier"
   ]
  },
  {
   "cell_type": "code",
   "execution_count": 14,
   "id": "8b1f3cdb",
   "metadata": {},
   "outputs": [],
   "source": [
    "clf = DecisionTreeClassifier()\n",
    "\n",
    "# Training decision tree classifier\n",
    "clf = clf.fit(X_train,y_train)\n",
    "\n",
    "# predict\n",
    "y_pred = clf.predict(X_test)"
   ]
  },
  {
   "cell_type": "code",
   "execution_count": 17,
   "id": "5a486c52",
   "metadata": {},
   "outputs": [
    {
     "name": "stdout",
     "output_type": "stream",
     "text": [
      "Accuracy: 0.7388059701492538\n",
      "Bal.Accuracy 0.7248081841432226\n"
     ]
    }
   ],
   "source": [
    "print(\"Accuracy:\",metrics.accuracy_score(y_test, y_pred))\n",
    "print(\"Bal.Accuracy\", metrics.balanced_accuracy_score(y_test, y_pred))"
   ]
  },
  {
   "cell_type": "markdown",
   "id": "c9f75a42",
   "metadata": {},
   "source": [
    "# Apply Occan Razor with Iterations\n",
    "\n",
    "We can apply some cut points in a loop, as this problem is very easy and can run multiple times without much effort.\n",
    "\n",
    "Fiding the best cut will lead to a better performance."
   ]
  },
  {
   "cell_type": "code",
   "execution_count": 22,
   "id": "2f3c5800",
   "metadata": {},
   "outputs": [],
   "source": [
    "def runDecisionTreeClassifier(X_train, y_train, X_test, depth):\n",
    "    print(\"Current depth: \" + str(depth))\n",
    "    clf = DecisionTreeClassifier(max_depth=depth)\n",
    "    clf = clf.fit(X_train,y_train)\n",
    "    y_pred = clf.predict(X_test)\n",
    "    print(\"Accuracy:\",metrics.accuracy_score(y_test, y_pred))\n",
    "    print(\"Bal.Accuracy\", metrics.balanced_accuracy_score(y_test, y_pred))\n",
    "    print('----')"
   ]
  },
  {
   "cell_type": "code",
   "execution_count": 24,
   "id": "404e67f9",
   "metadata": {},
   "outputs": [
    {
     "name": "stdout",
     "output_type": "stream",
     "text": [
      "Current depth: 10\n",
      "Accuracy: 0.7798507462686567\n",
      "Bal.Accuracy 0.7607558965615232\n",
      "----\n",
      "Current depth: 9\n",
      "Accuracy: 0.7649253731343284\n",
      "Bal.Accuracy 0.7422847399829497\n",
      "----\n",
      "Current depth: 8\n",
      "Accuracy: 0.7873134328358209\n",
      "Bal.Accuracy 0.7726911054276784\n",
      "----\n",
      "Current depth: 7\n",
      "Accuracy: 0.7425373134328358\n",
      "Bal.Accuracy 0.7194373401534526\n",
      "----\n",
      "Current depth: 6\n",
      "Accuracy: 0.7611940298507462\n",
      "Bal.Accuracy 0.74333617504973\n",
      "----\n",
      "Current depth: 5\n",
      "Accuracy: 0.7723880597014925\n",
      "Bal.Accuracy 0.7596192100028417\n",
      "----\n",
      "Current depth: 4\n",
      "Accuracy: 0.7798507462686567\n",
      "Bal.Accuracy 0.7629156010230178\n",
      "----\n",
      "Current depth: 3\n",
      "Accuracy: 0.7873134328358209\n",
      "Bal.Accuracy 0.7716112531969309\n",
      "----\n",
      "Current depth: 2\n",
      "Accuracy: 0.7350746268656716\n",
      "Bal.Accuracy 0.7021028701335607\n",
      "----\n",
      "Current depth: 1\n",
      "Accuracy: 0.753731343283582\n",
      "Bal.Accuracy 0.7389599317988065\n",
      "----\n"
     ]
    }
   ],
   "source": [
    "depths = [ 10, 9, 8, 7, 6, 5, 4, 3, 2, 1 ]\n",
    "\n",
    "for depth in depths:\n",
    "    runDecisionTreeClassifier(X_train, y_train, X_test, depth)"
   ]
  },
  {
   "cell_type": "markdown",
   "id": "e0513cc3",
   "metadata": {},
   "source": [
    "It seems that this is a very simple problem, as a small tree (depth 3) can solve it with 78 acc)"
   ]
  },
  {
   "cell_type": "markdown",
   "id": "aae1ae75",
   "metadata": {},
   "source": [
    "# Random Forest\n",
    "\n",
    "Let's try an ensemble :)"
   ]
  },
  {
   "cell_type": "code",
   "execution_count": 47,
   "id": "2beb6ffa",
   "metadata": {},
   "outputs": [],
   "source": [
    "def runRandomForestClassifier(X_train, y_train, X_test, depth=3, n_estimators=1000):\n",
    "    print('current max_depth: ' + str(depth))\n",
    "    print('current n_estimator: ' + str(n_estimators))\n",
    "    clf_random_forest = RandomForestClassifier(n_estimators=n_estimators, random_state=0, max_depth=depth)\n",
    "    clf_random_forest = clf_random_forest.fit(X_train,y_train)\n",
    "    y_pred = clf_random_forest.predict(X_test)\n",
    "    print(\"Accuracy:\",metrics.accuracy_score(y_test, y_pred))\n",
    "    print(\"Bal.Accuracy\", metrics.balanced_accuracy_score(y_test, y_pred))\n",
    "    print('--------')\n"
   ]
  },
  {
   "cell_type": "code",
   "execution_count": 48,
   "id": "84bd0b0c",
   "metadata": {},
   "outputs": [
    {
     "name": "stdout",
     "output_type": "stream",
     "text": [
      "current max_depth: 3\n",
      "current n_estimator: 1000\n",
      "Accuracy: 0.7798507462686567\n",
      "Bal.Accuracy 0.7629156010230178\n",
      "--------\n"
     ]
    }
   ],
   "source": [
    "runRandomForestClassifier(X_train, y_train, X_test)"
   ]
  },
  {
   "cell_type": "markdown",
   "id": "fe3df512",
   "metadata": {},
   "source": [
    "Let's try a grid search for random forest hyperparameters: max_depth and n_estimators"
   ]
  },
  {
   "cell_type": "code",
   "execution_count": 49,
   "id": "f770ba00",
   "metadata": {},
   "outputs": [
    {
     "name": "stdout",
     "output_type": "stream",
     "text": [
      "current max_depth: 10\n",
      "current n_estimator: 10\n",
      "Accuracy: 0.7873134328358209\n",
      "Bal.Accuracy 0.7694515487354362\n",
      "--------\n",
      "current max_depth: 10\n",
      "current n_estimator: 50\n",
      "Accuracy: 0.7835820895522388\n",
      "Bal.Accuracy 0.7640238704177323\n",
      "--------\n",
      "current max_depth: 10\n",
      "current n_estimator: 100\n",
      "Accuracy: 0.7798507462686567\n",
      "Bal.Accuracy 0.7596760443307757\n",
      "--------\n",
      "current max_depth: 10\n",
      "current n_estimator: 500\n",
      "Accuracy: 0.7798507462686567\n",
      "Bal.Accuracy 0.7596760443307757\n",
      "--------\n",
      "current max_depth: 10\n",
      "current n_estimator: 1000\n",
      "Accuracy: 0.7798507462686567\n",
      "Bal.Accuracy 0.7596760443307757\n",
      "--------\n",
      "current max_depth: 9\n",
      "current n_estimator: 10\n",
      "Accuracy: 0.7761194029850746\n",
      "Bal.Accuracy 0.7596476271668087\n",
      "--------\n",
      "current max_depth: 9\n",
      "current n_estimator: 50\n",
      "Accuracy: 0.7798507462686567\n",
      "Bal.Accuracy 0.7596760443307757\n",
      "--------\n",
      "current max_depth: 9\n",
      "current n_estimator: 100\n",
      "Accuracy: 0.7835820895522388\n",
      "Bal.Accuracy 0.7640238704177323\n",
      "--------\n",
      "current max_depth: 9\n",
      "current n_estimator: 500\n",
      "Accuracy: 0.7835820895522388\n",
      "Bal.Accuracy 0.7629440181869849\n",
      "--------\n",
      "current max_depth: 9\n",
      "current n_estimator: 1000\n",
      "Accuracy: 0.7835820895522388\n",
      "Bal.Accuracy 0.7629440181869849\n",
      "--------\n",
      "current max_depth: 8\n",
      "current n_estimator: 10\n",
      "Accuracy: 0.7835820895522388\n",
      "Bal.Accuracy 0.7672634271099744\n",
      "--------\n",
      "current max_depth: 8\n",
      "current n_estimator: 50\n",
      "Accuracy: 0.7835820895522388\n",
      "Bal.Accuracy 0.7651037226484797\n",
      "--------\n",
      "current max_depth: 8\n",
      "current n_estimator: 100\n",
      "Accuracy: 0.7835820895522388\n",
      "Bal.Accuracy 0.7651037226484797\n",
      "--------\n",
      "current max_depth: 8\n",
      "current n_estimator: 500\n",
      "Accuracy: 0.7910447761194029\n",
      "Bal.Accuracy 0.771639670360898\n",
      "--------\n",
      "current max_depth: 8\n",
      "current n_estimator: 1000\n",
      "Accuracy: 0.7947761194029851\n",
      "Bal.Accuracy 0.7749076442171071\n",
      "--------\n",
      "current max_depth: 7\n",
      "current n_estimator: 10\n",
      "Accuracy: 0.7686567164179104\n",
      "Bal.Accuracy 0.752031827223643\n",
      "--------\n",
      "current max_depth: 7\n",
      "current n_estimator: 50\n",
      "Accuracy: 0.7947761194029851\n",
      "Bal.Accuracy 0.7738277919863598\n",
      "--------\n",
      "current max_depth: 7\n",
      "current n_estimator: 100\n",
      "Accuracy: 0.7835820895522388\n",
      "Bal.Accuracy 0.7651037226484797\n",
      "--------\n",
      "current max_depth: 7\n",
      "current n_estimator: 500\n",
      "Accuracy: 0.7873134328358209\n",
      "Bal.Accuracy 0.7672918442739415\n",
      "--------\n",
      "current max_depth: 7\n",
      "current n_estimator: 1000\n",
      "Accuracy: 0.7873134328358209\n",
      "Bal.Accuracy 0.7672918442739415\n",
      "--------\n",
      "current max_depth: 6\n",
      "current n_estimator: 10\n",
      "Accuracy: 0.7686567164179104\n",
      "Bal.Accuracy 0.7477124183006536\n",
      "--------\n",
      "current max_depth: 6\n",
      "current n_estimator: 50\n",
      "Accuracy: 0.7798507462686567\n",
      "Bal.Accuracy 0.7607558965615232\n",
      "--------\n",
      "current max_depth: 6\n",
      "current n_estimator: 100\n",
      "Accuracy: 0.7873134328358209\n",
      "Bal.Accuracy 0.7694515487354362\n",
      "--------\n",
      "current max_depth: 6\n",
      "current n_estimator: 500\n",
      "Accuracy: 0.7835820895522388\n",
      "Bal.Accuracy 0.7651037226484797\n",
      "--------\n",
      "current max_depth: 6\n",
      "current n_estimator: 1000\n",
      "Accuracy: 0.7910447761194029\n",
      "Bal.Accuracy 0.7727195225916453\n",
      "--------\n",
      "current max_depth: 5\n",
      "current n_estimator: 10\n",
      "Accuracy: 0.7798507462686567\n",
      "Bal.Accuracy 0.7607558965615232\n",
      "--------\n",
      "current max_depth: 5\n",
      "current n_estimator: 50\n",
      "Accuracy: 0.7835820895522388\n",
      "Bal.Accuracy 0.766183574879227\n",
      "--------\n",
      "current max_depth: 5\n",
      "current n_estimator: 100\n",
      "Accuracy: 0.7835820895522388\n",
      "Bal.Accuracy 0.766183574879227\n",
      "--------\n",
      "current max_depth: 5\n",
      "current n_estimator: 500\n",
      "Accuracy: 0.7835820895522388\n",
      "Bal.Accuracy 0.766183574879227\n",
      "--------\n",
      "current max_depth: 5\n",
      "current n_estimator: 1000\n",
      "Accuracy: 0.7835820895522388\n",
      "Bal.Accuracy 0.766183574879227\n",
      "--------\n",
      "current max_depth: 4\n",
      "current n_estimator: 10\n",
      "Accuracy: 0.7649253731343284\n",
      "Bal.Accuracy 0.7466041489059392\n",
      "--------\n",
      "current max_depth: 4\n",
      "current n_estimator: 50\n",
      "Accuracy: 0.7835820895522388\n",
      "Bal.Accuracy 0.766183574879227\n",
      "--------\n",
      "current max_depth: 4\n",
      "current n_estimator: 100\n",
      "Accuracy: 0.7835820895522388\n",
      "Bal.Accuracy 0.766183574879227\n",
      "--------\n",
      "current max_depth: 4\n",
      "current n_estimator: 500\n",
      "Accuracy: 0.7835820895522388\n",
      "Bal.Accuracy 0.766183574879227\n",
      "--------\n",
      "current max_depth: 4\n",
      "current n_estimator: 1000\n",
      "Accuracy: 0.7835820895522388\n",
      "Bal.Accuracy 0.766183574879227\n",
      "--------\n",
      "current max_depth: 3\n",
      "current n_estimator: 10\n",
      "Accuracy: 0.7798507462686567\n",
      "Bal.Accuracy 0.7618357487922705\n",
      "--------\n",
      "current max_depth: 3\n",
      "current n_estimator: 50\n",
      "Accuracy: 0.7835820895522388\n",
      "Bal.Accuracy 0.7672634271099744\n",
      "--------\n",
      "current max_depth: 3\n",
      "current n_estimator: 100\n",
      "Accuracy: 0.7798507462686567\n",
      "Bal.Accuracy 0.7629156010230178\n",
      "--------\n",
      "current max_depth: 3\n",
      "current n_estimator: 500\n",
      "Accuracy: 0.7798507462686567\n",
      "Bal.Accuracy 0.7629156010230178\n",
      "--------\n",
      "current max_depth: 3\n",
      "current n_estimator: 1000\n",
      "Accuracy: 0.7798507462686567\n",
      "Bal.Accuracy 0.7629156010230178\n",
      "--------\n",
      "current max_depth: 2\n",
      "current n_estimator: 10\n",
      "Accuracy: 0.753731343283582\n",
      "Bal.Accuracy 0.7389599317988065\n",
      "--------\n",
      "current max_depth: 2\n",
      "current n_estimator: 50\n",
      "Accuracy: 0.753731343283582\n",
      "Bal.Accuracy 0.7389599317988065\n",
      "--------\n",
      "current max_depth: 2\n",
      "current n_estimator: 100\n",
      "Accuracy: 0.75\n",
      "Bal.Accuracy 0.73461210571185\n",
      "--------\n",
      "current max_depth: 2\n",
      "current n_estimator: 500\n",
      "Accuracy: 0.753731343283582\n",
      "Bal.Accuracy 0.7389599317988065\n",
      "--------\n",
      "current max_depth: 2\n",
      "current n_estimator: 1000\n",
      "Accuracy: 0.753731343283582\n",
      "Bal.Accuracy 0.7389599317988065\n",
      "--------\n",
      "current max_depth: 1\n",
      "current n_estimator: 10\n",
      "Accuracy: 0.753731343283582\n",
      "Bal.Accuracy 0.7389599317988065\n",
      "--------\n",
      "current max_depth: 1\n",
      "current n_estimator: 50\n",
      "Accuracy: 0.7276119402985075\n",
      "Bal.Accuracy 0.7020460358056266\n",
      "--------\n",
      "current max_depth: 1\n",
      "current n_estimator: 100\n",
      "Accuracy: 0.7238805970149254\n",
      "Bal.Accuracy 0.6987780619494175\n",
      "--------\n",
      "current max_depth: 1\n",
      "current n_estimator: 500\n",
      "Accuracy: 0.753731343283582\n",
      "Bal.Accuracy 0.7389599317988065\n",
      "--------\n",
      "current max_depth: 1\n",
      "current n_estimator: 1000\n",
      "Accuracy: 0.753731343283582\n",
      "Bal.Accuracy 0.7389599317988065\n",
      "--------\n"
     ]
    }
   ],
   "source": [
    "depths = [ 10, 9, 8, 7, 6, 5, 4, 3, 2, 1 ]\n",
    "n_estimators = [ 10, 50, 100, 500, 1000 ]\n",
    "\n",
    "# pretty shit complexity code with o(n²)\n",
    "\n",
    "for depth in depths:\n",
    "    for n_estimator in n_estimators:\n",
    "        runRandomForestClassifier(X_train, y_train, X_test, depth, n_estimator)"
   ]
  }
 ],
 "metadata": {
  "kernelspec": {
   "display_name": "Python 3 (ipykernel)",
   "language": "python",
   "name": "python3"
  },
  "language_info": {
   "codemirror_mode": {
    "name": "ipython",
    "version": 3
   },
   "file_extension": ".py",
   "mimetype": "text/x-python",
   "name": "python",
   "nbconvert_exporter": "python",
   "pygments_lexer": "ipython3",
   "version": "3.9.7"
  }
 },
 "nbformat": 4,
 "nbformat_minor": 5
}
